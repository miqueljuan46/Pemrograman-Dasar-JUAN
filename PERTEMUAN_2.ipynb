{
  "nbformat": 4,
  "nbformat_minor": 0,
  "metadata": {
    "colab": {
      "provenance": [],
      "include_colab_link": true
    },
    "kernelspec": {
      "name": "python3",
      "display_name": "Python 3"
    },
    "language_info": {
      "name": "python"
    }
  },
  "cells": [
    {
      "cell_type": "markdown",
      "metadata": {
        "id": "view-in-github",
        "colab_type": "text"
      },
      "source": [
        "<a href=\"https://colab.research.google.com/github/miqueljuan46/Pemrograman-Dasar-JUAN/blob/main/PERTEMUAN_2.ipynb\" target=\"_parent\"><img src=\"https://colab.research.google.com/assets/colab-badge.svg\" alt=\"Open In Colab\"/></a>"
      ]
    },
    {
      "cell_type": "code",
      "source": [
        "#deklarasi variabel dictionary\n",
        "data_diri = {\"firstName\": \"juan\", \"lastName\": \"sinaga\", \"age\": 21, \"isMarried\"\n",
        ":\"single\"}\n",
        "\n",
        "#cara mengakses elemen dalam variabel dictionary\n",
        "data_diri[\"firstName\"] # juan\n",
        "data_diri[\"lastName\"]  # sinaga\n",
        "data_diri[\"age\"]       # 21\n",
        "data_diri[\"isMarried\"] # single\n",
        "\n",
        "\n",
        "print(data_diri[\"firstName\"])\n",
        "print(data_diri[\"lastName\"])\n",
        "print(data_diri[\"age\"])\n",
        "print(data_diri[\"isMarried\"])"
      ],
      "metadata": {
        "id": "T81ZS1J33ldF",
        "colab": {
          "base_uri": "https://localhost:8080/"
        },
        "outputId": "5d05bf40-2e59-4c5b-b3e3-22facdf5b7c6"
      },
      "execution_count": null,
      "outputs": [
        {
          "output_type": "stream",
          "name": "stdout",
          "text": [
            "juan\n",
            "sinaga\n",
            "21\n",
            "single\n"
          ]
        }
      ]
    },
    {
      "cell_type": "code",
      "source": [
        "# Katalog dari dua pemasok dalam bentuk set\n",
        "katalog_A = {\"Laptop\", \"Printer\", \"Mouse\", \"Keyboard\"}\n",
        "katalog_B = {\"Monitor\", \"Mouse\", \"Speaker\", \"Printer\"}\n",
        "\n",
        "# Daftar produk diskon dalam bentuk tuple\n",
        "produk_diskon = (\"Laptop\", \"Monitor\", \"Speaker\")\n",
        "\n",
        "# 1. Gabungkan katalog_A dan katalog_B menjadi satu set bernama katalog_lengkap\n",
        "katalog_lengkap = katalog_A.union(katalog_B)\n",
        "\n",
        "# 2. Cari produk dari katalog_lengkap yang juga ada di produk_diskon\n",
        "produk_promo_aktif = katalog_lengkap.intersection(produk_diskon)\n",
        "\n",
        "# Tampilkan hasil\n",
        "print(\"Katalog A             :\", katalog_A)\n",
        "print(\"Katalog B             :\", katalog_B)\n",
        "print(\"Daftar Produk Diskon  :\", produk_diskon)\n",
        "print(\"Katalog Lengkap       :\", katalog_lengkap)\n",
        "print(\"Produk Promo Aktif    :\", produk_promo_aktif)\n"
      ],
      "metadata": {
        "id": "DzozlnJ2yV_X",
        "outputId": "baea87f6-ccf2-40f1-c7fb-32677e8f4eb4",
        "colab": {
          "base_uri": "https://localhost:8080/"
        }
      },
      "execution_count": null,
      "outputs": [
        {
          "output_type": "stream",
          "name": "stdout",
          "text": [
            "Katalog A             : {'Printer', 'Mouse', 'Laptop', 'Keyboard'}\n",
            "Katalog B             : {'Mouse', 'Printer', 'Monitor', 'Speaker'}\n",
            "Daftar Produk Diskon  : ('Laptop', 'Monitor', 'Speaker')\n",
            "Katalog Lengkap       : {'Speaker', 'Laptop', 'Keyboard', 'Printer', 'Monitor', 'Mouse'}\n",
            "Produk Promo Aktif    : {'Speaker', 'Monitor', 'Laptop'}\n"
          ]
        }
      ]
    },
    {
      "cell_type": "code",
      "source": [
        "#deklarasi variabel list\n",
        "daftar_inspeksi = [\"pemahaman terhadap rencana dan desain\", \"ketersediaan bahan dan peralatan\",\n",
        "                  \"pengawasan pekerjaan\", \"kualitas konstruksi\", \"keselamatan kerja\",\n",
        "                  \"koordinasi dengan pemilik proyek\"]\n",
        "\n",
        "#cara mengakses elemen dalam variabel list\n",
        "daftar_inspeksi[0] = \"pemahaman terhadap rencana dan desain\"\n",
        "daftar_inspeksi[1] = \"ketersediaan bahan dan peralatan\"\n",
        "daftar_inspeksi[2] = \"pengawasan pekerjaan\"\n",
        "daftar_inspeksi[3] = \"kualitas konstruksi\"\n",
        "daftar_inspeksi[4] = \"keselamatan kerja\"\n",
        "daftar_inspeksi[5] = \"koordinasi dengan pemilik proyek\"\n",
        "\n",
        "\n",
        "print(daftar_inspeksi[0])\n",
        "print(daftar_inspeksi[1])\n",
        "print(daftar_inspeksi[2])\n",
        "print(daftar_inspeksi[3])\n",
        "print(daftar_inspeksi[4])\n",
        "print(daftar_inspeksi[5])"
      ],
      "metadata": {
        "colab": {
          "base_uri": "https://localhost:8080/"
        },
        "id": "XcjDMrNN8BH6",
        "outputId": "4c229a32-5b7a-42d1-eac7-5d22953efd0a"
      },
      "execution_count": null,
      "outputs": [
        {
          "output_type": "stream",
          "name": "stdout",
          "text": [
            "pemahaman terhadap rencana dan desain\n",
            "ketersediaan bahan dan peralatan\n",
            "pengawasan pekerjaan\n",
            "kualitas konstruksi\n",
            "keselamatan kerja\n",
            "koordinasi dengan pemilik proyek\n"
          ]
        }
      ]
    }
  ]
}