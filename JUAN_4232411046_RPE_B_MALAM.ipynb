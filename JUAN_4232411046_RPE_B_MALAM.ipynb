{
  "nbformat": 4,
  "nbformat_minor": 0,
  "metadata": {
    "colab": {
      "provenance": [],
      "authorship_tag": "ABX9TyM+dkq8m375O+lJU+yUuUJV",
      "include_colab_link": true
    },
    "kernelspec": {
      "name": "python3",
      "display_name": "Python 3"
    },
    "language_info": {
      "name": "python"
    }
  },
  "cells": [
    {
      "cell_type": "markdown",
      "metadata": {
        "id": "view-in-github",
        "colab_type": "text"
      },
      "source": [
        "<a href=\"https://colab.research.google.com/github/miqueljuan46/Pemrograman-Dasar-JUAN/blob/main/JUAN_4232411046_RPE_B_MALAM.ipynb\" target=\"_parent\"><img src=\"https://colab.research.google.com/assets/colab-badge.svg\" alt=\"Open In Colab\"/></a>"
      ]
    },
    {
      "cell_type": "code",
      "execution_count": null,
      "metadata": {
        "colab": {
          "base_uri": "https://localhost:8080/"
        },
        "id": "QFhcM48dKBsx",
        "outputId": "88b54f76-7a21-4da1-8f18-6b58fda9533a"
      },
      "outputs": [
        {
          "output_type": "stream",
          "name": "stdout",
          "text": [
            "nama                 = juan\n",
            "usia                 = 21 Tahun\n",
            "asal                 = Batam\n",
            "tempat_tanggal_lahir = Batam, 17 januari 2004\n",
            "alamat               = Perumahan taman lestari Blok D27 No. 11, Batu Aji, Kota Batam\n",
            "jurusan              = Teknik elektro\n",
            "prodi                = Teknik elektro\n",
            "semester             = 3\n",
            "matakuliah           = Pemrograman Dasar\n",
            "status_lulus         = False\n"
          ]
        }
      ],
      "source": [
        "nama = \"juan\"\n",
        "usia = \"21 Tahun\"\n",
        "asal = \"Batam\"\n",
        "tempat_tanggal_lahir = \"Batam, 17 januari 2004\"\n",
        "alamat = \"Perumahan taman lestari Blok D27 No. 11, Batu Aji, Kota Batam\"\n",
        "jurusan = \"Teknik elektro\"\n",
        "prodi = \"Teknologi Rekaya Pembangkit Energi\"\n",
        "semester = \"3\"\n",
        "matakuliah = \"Pemrograman Dasar\"\n",
        "status_lulus = False\n",
        "\n",
        "\n",
        "print (\"nama                 =\",nama)\n",
        "print (\"usia                 =\",usia)\n",
        "print (\"asal                 =\",asal)\n",
        "print (\"tempat_tanggal_lahir =\",tempat_tanggal_lahir)\n",
        "print (\"alamat               =\",alamat)\n",
        "print (\"jurusan              =\",jurusan)\n",
        "print (\"prodi                =\",jurusan)\n",
        "print (\"semester             =\",semester)\n",
        "print (\"matakuliah           =\",matakuliah)\n",
        "print (\"status_lulus         =\",status_lulus)"
      ]
    }
  ]
}